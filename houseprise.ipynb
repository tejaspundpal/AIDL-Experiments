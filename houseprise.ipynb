{
 "cells": [
  {
   "cell_type": "code",
   "execution_count": null,
   "metadata": {
    "id": "kfQRVhvq2DRx"
   },
   "outputs": [],
   "source": [
    "import tensorflow as tf\n",
    "from tensorflow.keras.datasets import boston_housing\n",
    "from sklearn import preprocessing"
   ]
  },
  {
   "cell_type": "code",
   "execution_count": null,
   "metadata": {
    "colab": {
     "base_uri": "https://localhost:8080/"
    },
    "executionInfo": {
     "elapsed": 18,
     "status": "ok",
     "timestamp": 1693172455904,
     "user": {
      "displayName": "Shreyash Teli",
      "userId": "16496279542267094819"
     },
     "user_tz": -330
    },
    "id": "BMEjLjS87p9p",
    "outputId": "5e78fc3a-c19c-4ea3-ca9f-2b5cb2ba4c7d"
   },
   "outputs": [
    {
     "name": "stdout",
     "output_type": "stream",
     "text": [
      "Downloading data from https://storage.googleapis.com/tensorflow/tf-keras-datasets/boston_housing.npz\n",
      "57026/57026 [==============================] - 0s 0us/step\n"
     ]
    }
   ],
   "source": [
    "(train_x,train_y),(test_x,test_y)=boston_housing.load_data()"
   ]
  },
  {
   "cell_type": "code",
   "execution_count": null,
   "metadata": {
    "colab": {
     "base_uri": "https://localhost:8080/"
    },
    "executionInfo": {
     "elapsed": 14,
     "status": "ok",
     "timestamp": 1693172649813,
     "user": {
      "displayName": "Shreyash Teli",
      "userId": "16496279542267094819"
     },
     "user_tz": -330
    },
    "id": "7MNWDjRt8VRR",
    "outputId": "1590515b-a70e-47d1-d5dc-59b358ec14c4"
   },
   "outputs": [
    {
     "name": "stdout",
     "output_type": "stream",
     "text": [
      "train shape:  (404, 13)\n",
      "test shape:  (102, 13)\n",
      "actual train shape:  (404,)\n",
      "actual test shape:  (102,)\n"
     ]
    }
   ],
   "source": [
    "print(\"train shape: \",train_x.shape)\n",
    "print(\"test shape: \",test_x.shape)\n",
    "print(\"actual train shape: \",train_y.shape)\n",
    "print(\"actual test shape: \",test_y.shape)"
   ]
  },
  {
   "cell_type": "code",
   "execution_count": null,
   "metadata": {
    "colab": {
     "base_uri": "https://localhost:8080/"
    },
    "executionInfo": {
     "elapsed": 3,
     "status": "ok",
     "timestamp": 1693172691552,
     "user": {
      "displayName": "Shreyash Teli",
      "userId": "16496279542267094819"
     },
     "user_tz": -330
    },
    "id": "icUQpB-V9EmR",
    "outputId": "9352d5be-beae-44d5-bfd3-67b60c5f7751"
   },
   "outputs": [
    {
     "data": {
      "text/plain": [
       "array([  1.23247,   0.     ,   8.14   ,   0.     ,   0.538  ,   6.142  ,\n",
       "        91.7    ,   3.9769 ,   4.     , 307.     ,  21.     , 396.9    ,\n",
       "        18.72   ])"
      ]
     },
     "execution_count": 4,
     "metadata": {},
     "output_type": "execute_result"
    }
   ],
   "source": [
    "train_x[0]"
   ]
  },
  {
   "cell_type": "code",
   "execution_count": null,
   "metadata": {
    "colab": {
     "base_uri": "https://localhost:8080/"
    },
    "executionInfo": {
     "elapsed": 11,
     "status": "ok",
     "timestamp": 1693172704833,
     "user": {
      "displayName": "Shreyash Teli",
      "userId": "16496279542267094819"
     },
     "user_tz": -330
    },
    "id": "YtUt-XuI9Ozw",
    "outputId": "7efafa31-d456-46fe-f687-6bf92f37b722"
   },
   "outputs": [
    {
     "data": {
      "text/plain": [
       "15.2"
      ]
     },
     "execution_count": 5,
     "metadata": {},
     "output_type": "execute_result"
    }
   ],
   "source": [
    "train_y[0]"
   ]
  },
  {
   "cell_type": "code",
   "execution_count": null,
   "metadata": {
    "id": "sIWuSi-d9SCY"
   },
   "outputs": [],
   "source": [
    "train_x=preprocessing.normalize(train_x)\n",
    "test_x=preprocessing.normalize(test_x)"
   ]
  },
  {
   "cell_type": "code",
   "execution_count": null,
   "metadata": {
    "colab": {
     "base_uri": "https://localhost:8080/"
    },
    "executionInfo": {
     "elapsed": 424,
     "status": "ok",
     "timestamp": 1693172927740,
     "user": {
      "displayName": "Shreyash Teli",
      "userId": "16496279542267094819"
     },
     "user_tz": -330
    },
    "id": "ZLI1PNrw-Dlh",
    "outputId": "40e10f9b-9477-4ac2-a70a-f86aee53d935"
   },
   "outputs": [
    {
     "data": {
      "text/plain": [
       "array([0.0024119 , 0.        , 0.01592969, 0.        , 0.00105285,\n",
       "       0.01201967, 0.17945359, 0.00778265, 0.00782786, 0.6007879 ,\n",
       "       0.04109624, 0.77671895, 0.03663436])"
      ]
     },
     "execution_count": 8,
     "metadata": {},
     "output_type": "execute_result"
    }
   ],
   "source": [
    "train_x[0]"
   ]
  },
  {
   "cell_type": "code",
   "execution_count": null,
   "metadata": {
    "colab": {
     "base_uri": "https://localhost:8080/"
    },
    "executionInfo": {
     "elapsed": 11,
     "status": "ok",
     "timestamp": 1693172954337,
     "user": {
      "displayName": "Shreyash Teli",
      "userId": "16496279542267094819"
     },
     "user_tz": -330
    },
    "id": "97xBiP-k-IPn",
    "outputId": "a26e8fc6-fd35-4ad3-dde7-ec012e241db2"
   },
   "outputs": [
    {
     "data": {
      "text/plain": [
       "15.2"
      ]
     },
     "execution_count": 9,
     "metadata": {},
     "output_type": "execute_result"
    }
   ],
   "source": [
    "train_y[0]"
   ]
  },
  {
   "cell_type": "code",
   "execution_count": null,
   "metadata": {
    "id": "4UFrj58u-O53"
   },
   "outputs": [],
   "source": [
    "from tensorflow.keras.models import Sequential\n",
    "from tensorflow.keras.layers import *\n",
    "def HousePricePredictionModel():\n",
    " model =Sequential()\n",
    " model.add(Dense(128,activation='relu',input_shape=(train_x[0].shape)))\n",
    " model.add(Dense(64,activation='relu'))\n",
    " model.add(Dense(32,activation='relu'))\n",
    " model.add(Dense(1))\n",
    " model.compile(optimizer='rmsprop',loss='mse',metrics=['mae'])\n",
    " return model"
   ]
  },
  {
   "cell_type": "code",
   "execution_count": null,
   "metadata": {
    "id": "uXi3vwAXBQqo"
   },
   "outputs": [],
   "source": [
    "import numpy as np\n",
    "k=4\n",
    "num_val_samples = len(train_x)\n",
    "num_epochs = 100\n",
    "all_scores = []"
   ]
  },
  {
   "cell_type": "code",
   "execution_count": null,
   "metadata": {
    "colab": {
     "base_uri": "https://localhost:8080/"
    },
    "executionInfo": {
     "elapsed": 143142,
     "status": "ok",
     "timestamp": 1693175184833,
     "user": {
      "displayName": "Shreyash Teli",
      "userId": "16496279542267094819"
     },
     "user_tz": -330
    },
    "id": "FpL0I6FMFISI",
    "outputId": "1102d413-f8da-475a-9315-aba4697663dd"
   },
   "outputs": [
    {
     "name": "stdout",
     "output_type": "stream",
     "text": [
      "Epoch 1/100\n",
      "404/404 [==============================] - 2s 2ms/step - loss: 135.7547 - mae: 8.4645 - val_loss: 72.0098 - val_mae: 5.9372\n",
      "Epoch 2/100\n",
      "404/404 [==============================] - 1s 2ms/step - loss: 68.1966 - mae: 5.7296 - val_loss: 59.5369 - val_mae: 5.7500\n",
      "Epoch 3/100\n",
      "404/404 [==============================] - 1s 2ms/step - loss: 62.6693 - mae: 5.5317 - val_loss: 58.2159 - val_mae: 5.8500\n",
      "Epoch 4/100\n",
      "404/404 [==============================] - 1s 2ms/step - loss: 61.0209 - mae: 5.4573 - val_loss: 55.1818 - val_mae: 5.4347\n",
      "Epoch 5/100\n",
      "404/404 [==============================] - 1s 3ms/step - loss: 59.9479 - mae: 5.2351 - val_loss: 53.5286 - val_mae: 5.3670\n",
      "Epoch 6/100\n",
      "404/404 [==============================] - 1s 3ms/step - loss: 56.9805 - mae: 5.2009 - val_loss: 53.6093 - val_mae: 5.2616\n",
      "Epoch 7/100\n",
      "404/404 [==============================] - 1s 2ms/step - loss: 56.5004 - mae: 5.0321 - val_loss: 51.4054 - val_mae: 5.2195\n",
      "Epoch 8/100\n",
      "404/404 [==============================] - 1s 2ms/step - loss: 54.6292 - mae: 5.0174 - val_loss: 54.9060 - val_mae: 5.1885\n",
      "Epoch 9/100\n",
      "404/404 [==============================] - 1s 2ms/step - loss: 52.9322 - mae: 4.8534 - val_loss: 52.8366 - val_mae: 5.0771\n",
      "Epoch 10/100\n",
      "404/404 [==============================] - 1s 2ms/step - loss: 49.1577 - mae: 4.7611 - val_loss: 47.0455 - val_mae: 4.9090\n",
      "Epoch 11/100\n",
      "404/404 [==============================] - 1s 2ms/step - loss: 48.3052 - mae: 4.8131 - val_loss: 56.5042 - val_mae: 5.2395\n",
      "Epoch 12/100\n",
      "404/404 [==============================] - 1s 2ms/step - loss: 47.5853 - mae: 4.6732 - val_loss: 48.4785 - val_mae: 4.8250\n",
      "Epoch 13/100\n",
      "404/404 [==============================] - 1s 2ms/step - loss: 46.1652 - mae: 4.7288 - val_loss: 42.2133 - val_mae: 4.4979\n",
      "Epoch 14/100\n",
      "404/404 [==============================] - 1s 2ms/step - loss: 42.9130 - mae: 4.4319 - val_loss: 47.8675 - val_mae: 4.7557\n",
      "Epoch 15/100\n",
      "404/404 [==============================] - 1s 2ms/step - loss: 41.4963 - mae: 4.5001 - val_loss: 39.2035 - val_mae: 4.4380\n",
      "Epoch 16/100\n",
      "404/404 [==============================] - 1s 2ms/step - loss: 40.5890 - mae: 4.4767 - val_loss: 37.2128 - val_mae: 4.3602\n",
      "Epoch 17/100\n",
      "404/404 [==============================] - 1s 2ms/step - loss: 39.6102 - mae: 4.3275 - val_loss: 35.9410 - val_mae: 4.2263\n",
      "Epoch 18/100\n",
      "404/404 [==============================] - 1s 2ms/step - loss: 38.5039 - mae: 4.2476 - val_loss: 41.0649 - val_mae: 4.3691\n",
      "Epoch 19/100\n",
      "404/404 [==============================] - 1s 2ms/step - loss: 36.3443 - mae: 4.1979 - val_loss: 33.0951 - val_mae: 4.0669\n",
      "Epoch 20/100\n",
      "404/404 [==============================] - 1s 3ms/step - loss: 36.5278 - mae: 4.1127 - val_loss: 36.0941 - val_mae: 4.6279\n",
      "Epoch 21/100\n",
      "404/404 [==============================] - 1s 3ms/step - loss: 35.3532 - mae: 4.1900 - val_loss: 31.2335 - val_mae: 3.8702\n",
      "Epoch 22/100\n",
      "404/404 [==============================] - 1s 2ms/step - loss: 34.8527 - mae: 4.1667 - val_loss: 32.2075 - val_mae: 3.9159\n",
      "Epoch 23/100\n",
      "404/404 [==============================] - 1s 2ms/step - loss: 33.8739 - mae: 4.0637 - val_loss: 30.5543 - val_mae: 3.8114\n",
      "Epoch 24/100\n",
      "404/404 [==============================] - 1s 2ms/step - loss: 33.4863 - mae: 4.0793 - val_loss: 30.2404 - val_mae: 3.8258\n",
      "Epoch 25/100\n",
      "404/404 [==============================] - 1s 2ms/step - loss: 32.5964 - mae: 3.9796 - val_loss: 32.4567 - val_mae: 3.9208\n",
      "Epoch 26/100\n",
      "404/404 [==============================] - 1s 2ms/step - loss: 31.2936 - mae: 3.9436 - val_loss: 33.0808 - val_mae: 3.9744\n",
      "Epoch 27/100\n",
      "404/404 [==============================] - 1s 2ms/step - loss: 29.9743 - mae: 3.9229 - val_loss: 34.9959 - val_mae: 4.8542\n",
      "Epoch 28/100\n",
      "404/404 [==============================] - 1s 2ms/step - loss: 31.5828 - mae: 3.9172 - val_loss: 28.9331 - val_mae: 3.7346\n",
      "Epoch 29/100\n",
      "404/404 [==============================] - 1s 2ms/step - loss: 28.3130 - mae: 3.8672 - val_loss: 30.5098 - val_mae: 3.7873\n",
      "Epoch 30/100\n",
      "404/404 [==============================] - 1s 2ms/step - loss: 29.6156 - mae: 3.8869 - val_loss: 28.2837 - val_mae: 3.9535\n",
      "Epoch 31/100\n",
      "404/404 [==============================] - 1s 2ms/step - loss: 28.8157 - mae: 3.8581 - val_loss: 36.2832 - val_mae: 4.2586\n",
      "Epoch 32/100\n",
      "404/404 [==============================] - 1s 2ms/step - loss: 27.9854 - mae: 3.7052 - val_loss: 27.5920 - val_mae: 3.9971\n",
      "Epoch 33/100\n",
      "404/404 [==============================] - 1s 2ms/step - loss: 28.2935 - mae: 3.8306 - val_loss: 26.0819 - val_mae: 3.6837\n",
      "Epoch 34/100\n",
      "404/404 [==============================] - 1s 3ms/step - loss: 26.8740 - mae: 3.7476 - val_loss: 29.4480 - val_mae: 3.7354\n",
      "Epoch 35/100\n",
      "404/404 [==============================] - 1s 3ms/step - loss: 26.1436 - mae: 3.6606 - val_loss: 40.6637 - val_mae: 5.4644\n",
      "Epoch 36/100\n",
      "404/404 [==============================] - 1s 2ms/step - loss: 25.4105 - mae: 3.5902 - val_loss: 25.2027 - val_mae: 3.7458\n",
      "Epoch 37/100\n",
      "404/404 [==============================] - 1s 2ms/step - loss: 24.6709 - mae: 3.5969 - val_loss: 25.9356 - val_mae: 3.6795\n",
      "Epoch 38/100\n",
      "404/404 [==============================] - 1s 2ms/step - loss: 25.2247 - mae: 3.6545 - val_loss: 30.6994 - val_mae: 3.8569\n",
      "Epoch 39/100\n",
      "404/404 [==============================] - 1s 2ms/step - loss: 24.8265 - mae: 3.5721 - val_loss: 26.1146 - val_mae: 3.5882\n",
      "Epoch 40/100\n",
      "404/404 [==============================] - 1s 2ms/step - loss: 22.8655 - mae: 3.4003 - val_loss: 24.4740 - val_mae: 3.5426\n",
      "Epoch 41/100\n",
      "404/404 [==============================] - 1s 2ms/step - loss: 22.4247 - mae: 3.4452 - val_loss: 29.5254 - val_mae: 4.3229\n",
      "Epoch 42/100\n",
      "404/404 [==============================] - 1s 2ms/step - loss: 22.8180 - mae: 3.4303 - val_loss: 30.4081 - val_mae: 4.2064\n",
      "Epoch 43/100\n",
      "404/404 [==============================] - 1s 2ms/step - loss: 22.9473 - mae: 3.5492 - val_loss: 34.3040 - val_mae: 4.7921\n",
      "Epoch 44/100\n",
      "404/404 [==============================] - 1s 2ms/step - loss: 22.9435 - mae: 3.4576 - val_loss: 28.2858 - val_mae: 3.7357\n",
      "Epoch 45/100\n",
      "404/404 [==============================] - 1s 2ms/step - loss: 21.2070 - mae: 3.4002 - val_loss: 26.2788 - val_mae: 3.6656\n",
      "Epoch 46/100\n",
      "404/404 [==============================] - 1s 2ms/step - loss: 22.7918 - mae: 3.4319 - val_loss: 33.4298 - val_mae: 4.0132\n",
      "Epoch 47/100\n",
      "404/404 [==============================] - 1s 2ms/step - loss: 20.1971 - mae: 3.1638 - val_loss: 30.3424 - val_mae: 3.9107\n",
      "Epoch 48/100\n",
      "404/404 [==============================] - 1s 3ms/step - loss: 19.6039 - mae: 3.2550 - val_loss: 32.4748 - val_mae: 3.9565\n",
      "Epoch 49/100\n",
      "404/404 [==============================] - 1s 3ms/step - loss: 21.4128 - mae: 3.2778 - val_loss: 29.1525 - val_mae: 3.7920\n",
      "Epoch 50/100\n",
      "404/404 [==============================] - 1s 3ms/step - loss: 21.7417 - mae: 3.2365 - val_loss: 29.1448 - val_mae: 3.7669\n",
      "Epoch 51/100\n",
      "404/404 [==============================] - 1s 2ms/step - loss: 19.3574 - mae: 3.1265 - val_loss: 33.6460 - val_mae: 4.1170\n",
      "Epoch 52/100\n",
      "404/404 [==============================] - 1s 2ms/step - loss: 21.8419 - mae: 3.3426 - val_loss: 24.9710 - val_mae: 3.5762\n",
      "Epoch 53/100\n",
      "404/404 [==============================] - 1s 2ms/step - loss: 19.5318 - mae: 3.1734 - val_loss: 42.2838 - val_mae: 4.7127\n",
      "Epoch 54/100\n",
      "404/404 [==============================] - 1s 2ms/step - loss: 21.2360 - mae: 3.2556 - val_loss: 29.9558 - val_mae: 4.1079\n",
      "Epoch 55/100\n",
      "404/404 [==============================] - 1s 2ms/step - loss: 19.8510 - mae: 3.2618 - val_loss: 26.0954 - val_mae: 3.5825\n",
      "Epoch 56/100\n",
      "404/404 [==============================] - 1s 2ms/step - loss: 18.9260 - mae: 3.1471 - val_loss: 26.0616 - val_mae: 3.6173\n",
      "Epoch 57/100\n",
      "404/404 [==============================] - 1s 2ms/step - loss: 19.7907 - mae: 3.2026 - val_loss: 29.6825 - val_mae: 3.7999\n",
      "Epoch 58/100\n",
      "404/404 [==============================] - 1s 2ms/step - loss: 20.5109 - mae: 3.1399 - val_loss: 26.1748 - val_mae: 3.5496\n",
      "Epoch 59/100\n",
      "404/404 [==============================] - 1s 2ms/step - loss: 19.6246 - mae: 3.1724 - val_loss: 33.0295 - val_mae: 4.0057\n",
      "Epoch 60/100\n",
      "404/404 [==============================] - 1s 2ms/step - loss: 20.4742 - mae: 3.2091 - val_loss: 33.7327 - val_mae: 4.0327\n",
      "Epoch 61/100\n",
      "404/404 [==============================] - 1s 2ms/step - loss: 20.5926 - mae: 3.1602 - val_loss: 28.3916 - val_mae: 3.6722\n",
      "Epoch 62/100\n",
      "404/404 [==============================] - 1s 2ms/step - loss: 18.3658 - mae: 3.0605 - val_loss: 33.9315 - val_mae: 4.0960\n",
      "Epoch 63/100\n",
      "404/404 [==============================] - 1s 3ms/step - loss: 17.9662 - mae: 3.1038 - val_loss: 31.1631 - val_mae: 3.8607\n",
      "Epoch 64/100\n",
      "404/404 [==============================] - 1s 3ms/step - loss: 17.6720 - mae: 3.1153 - val_loss: 28.0470 - val_mae: 3.5929\n",
      "Epoch 65/100\n",
      "404/404 [==============================] - 1s 2ms/step - loss: 17.8987 - mae: 3.0091 - val_loss: 30.7110 - val_mae: 3.8008\n",
      "Epoch 66/100\n",
      "404/404 [==============================] - 1s 2ms/step - loss: 17.5324 - mae: 3.0402 - val_loss: 31.2307 - val_mae: 4.1136\n",
      "Epoch 67/100\n",
      "404/404 [==============================] - 1s 2ms/step - loss: 18.4594 - mae: 3.1220 - val_loss: 27.8155 - val_mae: 3.5992\n",
      "Epoch 68/100\n",
      "404/404 [==============================] - 1s 2ms/step - loss: 17.6773 - mae: 2.9622 - val_loss: 31.4241 - val_mae: 3.8861\n",
      "Epoch 69/100\n",
      "404/404 [==============================] - 1s 2ms/step - loss: 17.7414 - mae: 3.0837 - val_loss: 28.0695 - val_mae: 3.6482\n",
      "Epoch 70/100\n",
      "404/404 [==============================] - 1s 2ms/step - loss: 18.3517 - mae: 3.1306 - val_loss: 27.2314 - val_mae: 3.5648\n",
      "Epoch 71/100\n",
      "404/404 [==============================] - 1s 2ms/step - loss: 17.5656 - mae: 3.0029 - val_loss: 26.9535 - val_mae: 3.6340\n",
      "Epoch 72/100\n",
      "404/404 [==============================] - 1s 2ms/step - loss: 18.4475 - mae: 3.0222 - val_loss: 29.2466 - val_mae: 3.7669\n",
      "Epoch 73/100\n",
      "404/404 [==============================] - 1s 2ms/step - loss: 17.3303 - mae: 2.9927 - val_loss: 27.2267 - val_mae: 3.4681\n",
      "Epoch 74/100\n",
      "404/404 [==============================] - 1s 2ms/step - loss: 17.8265 - mae: 3.0424 - val_loss: 30.8267 - val_mae: 3.7369\n",
      "Epoch 75/100\n",
      "404/404 [==============================] - 1s 2ms/step - loss: 17.3916 - mae: 3.0150 - val_loss: 41.3634 - val_mae: 4.5699\n",
      "Epoch 76/100\n",
      "404/404 [==============================] - 1s 2ms/step - loss: 18.9641 - mae: 3.0826 - val_loss: 28.8087 - val_mae: 3.5704\n",
      "Epoch 77/100\n",
      "404/404 [==============================] - 1s 2ms/step - loss: 16.5125 - mae: 2.9080 - val_loss: 33.5246 - val_mae: 3.9501\n",
      "Epoch 78/100\n",
      "404/404 [==============================] - 1s 3ms/step - loss: 18.6122 - mae: 3.0355 - val_loss: 27.8238 - val_mae: 3.5907\n",
      "Epoch 79/100\n",
      "404/404 [==============================] - 1s 3ms/step - loss: 16.8775 - mae: 2.9096 - val_loss: 33.3978 - val_mae: 3.8475\n",
      "Epoch 80/100\n",
      "404/404 [==============================] - 1s 2ms/step - loss: 16.8097 - mae: 3.0030 - val_loss: 27.5866 - val_mae: 3.5601\n",
      "Epoch 81/100\n",
      "404/404 [==============================] - 1s 2ms/step - loss: 17.5853 - mae: 2.9317 - val_loss: 26.9913 - val_mae: 3.5065\n",
      "Epoch 82/100\n",
      "404/404 [==============================] - 1s 2ms/step - loss: 17.1046 - mae: 2.9166 - val_loss: 33.7027 - val_mae: 3.9297\n",
      "Epoch 83/100\n",
      "404/404 [==============================] - 1s 2ms/step - loss: 17.8945 - mae: 3.0596 - val_loss: 29.9723 - val_mae: 3.6723\n",
      "Epoch 84/100\n",
      "404/404 [==============================] - 1s 2ms/step - loss: 16.8669 - mae: 2.9407 - val_loss: 41.8877 - val_mae: 4.7846\n",
      "Epoch 85/100\n",
      "404/404 [==============================] - 1s 2ms/step - loss: 18.1397 - mae: 3.0115 - val_loss: 28.6475 - val_mae: 3.5378\n",
      "Epoch 86/100\n",
      "404/404 [==============================] - 1s 2ms/step - loss: 16.1794 - mae: 2.8727 - val_loss: 26.9175 - val_mae: 3.4247\n",
      "Epoch 87/100\n",
      "404/404 [==============================] - 1s 2ms/step - loss: 17.0339 - mae: 2.9468 - val_loss: 29.0137 - val_mae: 3.5423\n",
      "Epoch 88/100\n",
      "404/404 [==============================] - 1s 2ms/step - loss: 17.8928 - mae: 2.9779 - val_loss: 37.1111 - val_mae: 4.1754\n",
      "Epoch 89/100\n",
      "404/404 [==============================] - 1s 2ms/step - loss: 16.3818 - mae: 2.9820 - val_loss: 28.0216 - val_mae: 3.5587\n",
      "Epoch 90/100\n",
      "404/404 [==============================] - 1s 2ms/step - loss: 15.9569 - mae: 2.9127 - val_loss: 28.4737 - val_mae: 3.6153\n",
      "Epoch 91/100\n",
      "404/404 [==============================] - 1s 2ms/step - loss: 17.5338 - mae: 2.9711 - val_loss: 31.0999 - val_mae: 3.6801\n",
      "Epoch 92/100\n",
      "404/404 [==============================] - 1s 2ms/step - loss: 16.5820 - mae: 2.9083 - val_loss: 28.6020 - val_mae: 3.5529\n",
      "Epoch 93/100\n",
      "404/404 [==============================] - 1s 3ms/step - loss: 16.4323 - mae: 2.8816 - val_loss: 27.1109 - val_mae: 3.5133\n",
      "Epoch 94/100\n",
      "404/404 [==============================] - 1s 3ms/step - loss: 17.0969 - mae: 2.9592 - val_loss: 30.7761 - val_mae: 3.7882\n",
      "Epoch 95/100\n",
      "404/404 [==============================] - 1s 2ms/step - loss: 15.4425 - mae: 2.7796 - val_loss: 27.3821 - val_mae: 3.6640\n",
      "Epoch 96/100\n",
      "404/404 [==============================] - 1s 2ms/step - loss: 15.9503 - mae: 2.8656 - val_loss: 28.6468 - val_mae: 3.6513\n",
      "Epoch 97/100\n",
      "404/404 [==============================] - 1s 2ms/step - loss: 14.6062 - mae: 2.7537 - val_loss: 29.7653 - val_mae: 3.6301\n",
      "Epoch 98/100\n",
      "404/404 [==============================] - 1s 2ms/step - loss: 16.1824 - mae: 2.8069 - val_loss: 26.2192 - val_mae: 3.4326\n",
      "Epoch 99/100\n",
      "404/404 [==============================] - 1s 2ms/step - loss: 16.1144 - mae: 2.8965 - val_loss: 34.9109 - val_mae: 4.0725\n",
      "Epoch 100/100\n",
      "404/404 [==============================] - 1s 2ms/step - loss: 15.9565 - mae: 2.8632 - val_loss: 27.0001 - val_mae: 3.4565\n"
     ]
    }
   ],
   "source": [
    "model= HousePricePredictionModel()\n",
    "history=model.fit(x=train_x,y=train_y,epochs=num_epochs,batch_size=1,verbose=1,validation_data=(test_x,test_y))"
   ]
  },
  {
   "cell_type": "code",
   "execution_count": null,
   "metadata": {
    "id": "yTyoSWoIGMkA"
   },
   "outputs": [],
   "source": [
    "arr=[  1.23247,   0.     ,   8.14   ,   0.     ,   0.538  ,   6.142  ,\n",
    "        91.7    ,   3.9769 ,   4.     , 307.     ,  21.     , 396.9    ,\n",
    "        18.72   ]"
   ]
  },
  {
   "cell_type": "code",
   "execution_count": null,
   "metadata": {
    "id": "_o09xvYUeEK0"
   },
   "outputs": [],
   "source": [
    "arr=preprocessing.normalize(arr)\n"
   ]
  },
  {
   "cell_type": "code",
   "execution_count": null,
   "metadata": {
    "id": "Ljt7hJ_NjQ5q"
   },
   "outputs": [],
   "source": []
  }
 ],
 "metadata": {
  "colab": {
   "provenance": []
  },
  "kernelspec": {
   "display_name": "Python 3",
   "language": "python",
   "name": "python3"
  },
  "language_info": {
   "codemirror_mode": {
    "name": "ipython",
    "version": 3
   },
   "file_extension": ".py",
   "mimetype": "text/x-python",
   "name": "python",
   "nbconvert_exporter": "python",
   "pygments_lexer": "ipython3",
   "version": "3.8.5"
  }
 },
 "nbformat": 4,
 "nbformat_minor": 1
}
