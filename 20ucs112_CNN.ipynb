{
 "cells": [
  {
   "cell_type": "code",
   "execution_count": 27,
   "id": "f23118d2",
   "metadata": {},
   "outputs": [],
   "source": [
    "import tensorflow as tf\n",
    "import matplotlib.pyplot as plt\n",
    "#mnist= tf.keras.datasets.mnist"
   ]
  },
  {
   "cell_type": "code",
   "execution_count": 28,
   "id": "c0cce97d",
   "metadata": {},
   "outputs": [],
   "source": [
    "from tensorflow.keras.datasets import fashion_mnist\n",
    "(x_train,y_train),(x_test,y_test)=fashion_mnist.load_data()"
   ]
  },
  {
   "cell_type": "code",
   "execution_count": 29,
   "id": "ae20fa17",
   "metadata": {},
   "outputs": [
    {
     "name": "stdout",
     "output_type": "stream",
     "text": [
      "(60000, 28, 28)\n",
      "(60000,)\n"
     ]
    }
   ],
   "source": [
    "print(x_train.shape)\n",
    "print(y_train.shape)"
   ]
  },
  {
   "cell_type": "code",
   "execution_count": 30,
   "id": "69852d48",
   "metadata": {},
   "outputs": [
    {
     "name": "stdout",
     "output_type": "stream",
     "text": [
      "(10000, 28, 28)\n",
      "(10000,)\n"
     ]
    }
   ],
   "source": [
    "print(x_test.shape)\n",
    "print(y_test.shape)"
   ]
  },
  {
   "cell_type": "code",
   "execution_count": 31,
   "id": "bce0eda2",
   "metadata": {},
   "outputs": [
    {
     "name": "stdout",
     "output_type": "stream",
     "text": [
      "[[  0   0   0   0   0   0   0   0   0   0   0   0   0   0   0   0   0   0\n",
      "    0   0   0   0   0   0   0   0   0   0]\n",
      " [  0   0   0   0   0   0   0   0   0   0   0   0   0   0   0   0   0   0\n",
      "    0   0   0   0   0   0   0   0   0   0]\n",
      " [  0   0   0   0   0   0   0   0   0   0   0   0   0   0   0   0   0   0\n",
      "    0   0   0   0   0   0   0   0   0   0]\n",
      " [  0   0   0   0   0   0   0   0   0   0   0   0   1   0   0  13  73   0\n",
      "    0   1   4   0   0   0   0   1   1   0]\n",
      " [  0   0   0   0   0   0   0   0   0   0   0   0   3   0  36 136 127  62\n",
      "   54   0   0   0   1   3   4   0   0   3]\n",
      " [  0   0   0   0   0   0   0   0   0   0   0   0   6   0 102 204 176 134\n",
      "  144 123  23   0   0   0   0  12  10   0]\n",
      " [  0   0   0   0   0   0   0   0   0   0   0   0   0   0 155 236 207 178\n",
      "  107 156 161 109  64  23  77 130  72  15]\n",
      " [  0   0   0   0   0   0   0   0   0   0   0   1   0  69 207 223 218 216\n",
      "  216 163 127 121 122 146 141  88 172  66]\n",
      " [  0   0   0   0   0   0   0   0   0   1   1   1   0 200 232 232 233 229\n",
      "  223 223 215 213 164 127 123 196 229   0]\n",
      " [  0   0   0   0   0   0   0   0   0   0   0   0   0 183 225 216 223 228\n",
      "  235 227 224 222 224 221 223 245 173   0]\n",
      " [  0   0   0   0   0   0   0   0   0   0   0   0   0 193 228 218 213 198\n",
      "  180 212 210 211 213 223 220 243 202   0]\n",
      " [  0   0   0   0   0   0   0   0   0   1   3   0  12 219 220 212 218 192\n",
      "  169 227 208 218 224 212 226 197 209  52]\n",
      " [  0   0   0   0   0   0   0   0   0   0   6   0  99 244 222 220 218 203\n",
      "  198 221 215 213 222 220 245 119 167  56]\n",
      " [  0   0   0   0   0   0   0   0   0   4   0   0  55 236 228 230 228 240\n",
      "  232 213 218 223 234 217 217 209  92   0]\n",
      " [  0   0   1   4   6   7   2   0   0   0   0   0 237 226 217 223 222 219\n",
      "  222 221 216 223 229 215 218 255  77   0]\n",
      " [  0   3   0   0   0   0   0   0   0  62 145 204 228 207 213 221 218 208\n",
      "  211 218 224 223 219 215 224 244 159   0]\n",
      " [  0   0   0   0  18  44  82 107 189 228 220 222 217 226 200 205 211 230\n",
      "  224 234 176 188 250 248 233 238 215   0]\n",
      " [  0  57 187 208 224 221 224 208 204 214 208 209 200 159 245 193 206 223\n",
      "  255 255 221 234 221 211 220 232 246   0]\n",
      " [  3 202 228 224 221 211 211 214 205 205 205 220 240  80 150 255 229 221\n",
      "  188 154 191 210 204 209 222 228 225   0]\n",
      " [ 98 233 198 210 222 229 229 234 249 220 194 215 217 241  65  73 106 117\n",
      "  168 219 221 215 217 223 223 224 229  29]\n",
      " [ 75 204 212 204 193 205 211 225 216 185 197 206 198 213 240 195 227 245\n",
      "  239 223 218 212 209 222 220 221 230  67]\n",
      " [ 48 203 183 194 213 197 185 190 194 192 202 214 219 221 220 236 225 216\n",
      "  199 206 186 181 177 172 181 205 206 115]\n",
      " [  0 122 219 193 179 171 183 196 204 210 213 207 211 210 200 196 194 191\n",
      "  195 191 198 192 176 156 167 177 210  92]\n",
      " [  0   0  74 189 212 191 175 172 175 181 185 188 189 188 193 198 204 209\n",
      "  210 210 211 188 188 194 192 216 170   0]\n",
      " [  2   0   0   0  66 200 222 237 239 242 246 243 244 221 220 193 191 179\n",
      "  182 182 181 176 166 168  99  58   0   0]\n",
      " [  0   0   0   0   0   0   0  40  61  44  72  41  35   0   0   0   0   0\n",
      "    0   0   0   0   0   0   0   0   0   0]\n",
      " [  0   0   0   0   0   0   0   0   0   0   0   0   0   0   0   0   0   0\n",
      "    0   0   0   0   0   0   0   0   0   0]\n",
      " [  0   0   0   0   0   0   0   0   0   0   0   0   0   0   0   0   0   0\n",
      "    0   0   0   0   0   0   0   0   0   0]]\n"
     ]
    }
   ],
   "source": [
    "print(x_train[0])"
   ]
  },
  {
   "cell_type": "code",
   "execution_count": 32,
   "id": "6d091c8f",
   "metadata": {},
   "outputs": [
    {
     "data": {
      "text/plain": [
       "<matplotlib.image.AxesImage at 0x1de65b7c0a0>"
      ]
     },
     "execution_count": 32,
     "metadata": {},
     "output_type": "execute_result"
    },
    {
     "data": {
      "image/png": "[encoded data removed]",
      "text/plain": [
       "<Figure size 640x480 with 1 Axes>"
      ]
     },
     "metadata": {},
     "output_type": "display_data"
    }
   ],
   "source": [
    "plt.imshow(x_train[0])"
   ]
  },
  {
   "cell_type": "code",
   "execution_count": 33,
   "id": "761471ec",
   "metadata": {},
   "outputs": [
    {
     "name": "stdout",
     "output_type": "stream",
     "text": [
      "9\n"
     ]
    }
   ],
   "source": [
    "print(y_train[0])"
   ]
  },
  {
   "cell_type": "code",
   "execution_count": 34,
   "id": "268dd719",
   "metadata": {},
   "outputs": [
    {
     "data": {
      "text/plain": [
       "{0, 1, 2, 3, 4, 5, 6, 7, 8, 9}"
      ]
     },
     "execution_count": 34,
     "metadata": {},
     "output_type": "execute_result"
    }
   ],
   "source": [
    "set(y_train)"
   ]
  },
  {
   "cell_type": "code",
   "execution_count": 35,
   "id": "2bd0295e",
   "metadata": {},
   "outputs": [],
   "source": [
    "x_train=x_train.astype(float)/255.0\n",
    "x_test=x_test.astype(float)/255.0"
   ]
  },
  {
   "cell_type": "code",
   "execution_count": 36,
   "id": "2b644fca",
   "metadata": {},
   "outputs": [],
   "source": [
    "from tensorflow.keras.utils import to_categorical\n",
    "y_train=to_categorical(y_train)\n",
    "y_test=to_categorical(y_test)"
   ]
  },
  {
   "cell_type": "code",
   "execution_count": 37,
   "id": "389cb073",
   "metadata": {},
   "outputs": [
    {
     "data": {
      "text/plain": [
       "array([0., 0., 0., 0., 0., 0., 0., 0., 0., 1.], dtype=float32)"
      ]
     },
     "execution_count": 37,
     "metadata": {},
     "output_type": "execute_result"
    }
   ],
   "source": [
    "y_train[0]"
   ]
  },
  {
   "cell_type": "code",
   "execution_count": 38,
   "id": "53e65820",
   "metadata": {},
   "outputs": [],
   "source": [
    "from tensorflow.keras.models import Sequential\n",
    "from tensorflow.keras.layers import InputLayer,Conv2D,MaxPooling2D,Flatten ,Dense"
   ]
  },
  {
   "cell_type": "code",
   "execution_count": 39,
   "id": "74696494",
   "metadata": {},
   "outputs": [],
   "source": [
    "model = Sequential()\n",
    "model.add(InputLayer(input_shape=(28,28,1)))\n",
    "model.add(Conv2D(filters=10,kernel_size=3,strides=(1,1),padding='valid',activation='relu'))\n",
    "model.add(MaxPooling2D(pool_size=(2,2)))\n",
    "model.add(Conv2D(filters=10,kernel_size=3,strides=(1,1),padding='valid',activation='relu'))\n",
    "model.add(MaxPooling2D(pool_size=(2,2)))\n",
    "model.add(Conv2D(filters=10,kernel_size=3,strides=(1,1),padding='valid',activation='softmax'))\n",
    "model.add(MaxPooling2D(pool_size=(2,2)))\n",
    "model.add(Flatten())\n",
    "model.add(Dense(64,activation='relu'))\n",
    "model.add(Dense(32,activation='relu'))\n",
    "model.add(Dense(10,activation='sigmoid'))"
   ]
  },
  {
   "cell_type": "code",
   "execution_count": 40,
   "id": "a54f2e4c",
   "metadata": {},
   "outputs": [
    {
     "name": "stdout",
     "output_type": "stream",
     "text": [
      "Model: \"sequential_1\"\n",
      "_________________________________________________________________\n",
      "Layer (type)                 Output Shape              Param #   \n",
      "=================================================================\n",
      "conv2d_3 (Conv2D)            (None, 26, 26, 10)        100       \n",
      "_________________________________________________________________\n",
      "max_pooling2d_3 (MaxPooling2 (None, 13, 13, 10)        0         \n",
      "_________________________________________________________________\n",
      "conv2d_4 (Conv2D)            (None, 11, 11, 10)        910       \n",
      "_________________________________________________________________\n",
      "max_pooling2d_4 (MaxPooling2 (None, 5, 5, 10)          0         \n",
      "_________________________________________________________________\n",
      "conv2d_5 (Conv2D)            (None, 3, 3, 10)          910       \n",
      "_________________________________________________________________\n",
      "max_pooling2d_5 (MaxPooling2 (None, 1, 1, 10)          0         \n",
      "_________________________________________________________________\n",
      "flatten_1 (Flatten)          (None, 10)                0         \n",
      "_________________________________________________________________\n",
      "dense_3 (Dense)              (None, 64)                704       \n",
      "_________________________________________________________________\n",
      "dense_4 (Dense)              (None, 32)                2080      \n",
      "_________________________________________________________________\n",
      "dense_5 (Dense)              (None, 10)                330       \n",
      "=================================================================\n",
      "Total params: 5,034\n",
      "Trainable params: 5,034\n",
      "Non-trainable params: 0\n",
      "_________________________________________________________________\n"
     ]
    }
   ],
   "source": [
    "model.summary()"
   ]
  },
  {
   "cell_type": "code",
   "execution_count": 41,
   "id": "758f09d7",
   "metadata": {},
   "outputs": [],
   "source": [
    "import tensorflow\n",
    "model.compile(optimizer='adam',loss=tensorflow.keras.losses.categorical_crossentropy,metrics=['acc'])"
   ]
  },
  {
   "cell_type": "code",
   "execution_count": 42,
   "id": "e6709ac2",
   "metadata": {},
   "outputs": [
    {
     "name": "stdout",
     "output_type": "stream",
     "text": [
      "(60000, 28, 28, 1)\n",
      "(10000, 28, 28, 1)\n"
     ]
    }
   ],
   "source": [
    "x_train=x_train.reshape((60000,28,28,1))\n",
    "x_test=x_test.reshape((10000,28,28,1))\n",
    "print(x_train.shape)\n",
    "print(x_test.shape)"
   ]
  },
  {
   "cell_type": "code",
   "execution_count": 43,
   "id": "9db13729",
   "metadata": {},
   "outputs": [
    {
     "name": "stdout",
     "output_type": "stream",
     "text": [
      "Epoch 1/30\n",
      "118/118 [==============================] - 11s 96ms/step - loss: 2.0551 - acc: 0.2979 - val_loss: 1.5657 - val_acc: 0.3296\n",
      "Epoch 2/30\n",
      "118/118 [==============================] - 13s 108ms/step - loss: 1.2290 - acc: 0.4981 - val_loss: 1.0302 - val_acc: 0.6019\n",
      "Epoch 3/30\n",
      "118/118 [==============================] - 12s 103ms/step - loss: 0.9560 - acc: 0.6247 - val_loss: 0.9083 - val_acc: 0.6616\n",
      "Epoch 4/30\n",
      "118/118 [==============================] - 12s 99ms/step - loss: 0.8590 - acc: 0.6753 - val_loss: 0.8511 - val_acc: 0.6707\n",
      "Epoch 5/30\n",
      "118/118 [==============================] - 12s 100ms/step - loss: 0.7935 - acc: 0.7061 - val_loss: 0.7913 - val_acc: 0.6984\n",
      "Epoch 6/30\n",
      "118/118 [==============================] - 12s 101ms/step - loss: 0.7506 - acc: 0.7232 - val_loss: 0.7580 - val_acc: 0.7223\n",
      "Epoch 7/30\n",
      "118/118 [==============================] - 12s 100ms/step - loss: 0.7217 - acc: 0.7311 - val_loss: 0.7240 - val_acc: 0.7280\n",
      "Epoch 8/30\n",
      "118/118 [==============================] - 12s 99ms/step - loss: 0.6951 - acc: 0.7418 - val_loss: 0.7027 - val_acc: 0.7357\n",
      "Epoch 9/30\n",
      "118/118 [==============================] - 12s 104ms/step - loss: 0.6731 - acc: 0.7481 - val_loss: 0.6821 - val_acc: 0.7462\n",
      "Epoch 10/30\n",
      "118/118 [==============================] - 12s 102ms/step - loss: 0.6555 - acc: 0.7543 - val_loss: 0.6622 - val_acc: 0.7516\n",
      "Epoch 11/30\n",
      "118/118 [==============================] - 12s 100ms/step - loss: 0.6371 - acc: 0.7617 - val_loss: 0.6519 - val_acc: 0.7613\n",
      "Epoch 12/30\n",
      "118/118 [==============================] - 12s 100ms/step - loss: 0.6220 - acc: 0.7680 - val_loss: 0.6374 - val_acc: 0.7670\n",
      "Epoch 13/30\n",
      "118/118 [==============================] - 12s 101ms/step - loss: 0.6032 - acc: 0.7734 - val_loss: 0.6206 - val_acc: 0.7730\n",
      "Epoch 14/30\n",
      "118/118 [==============================] - 12s 105ms/step - loss: 0.5874 - acc: 0.7795 - val_loss: 0.6000 - val_acc: 0.7773\n",
      "Epoch 15/30\n",
      "118/118 [==============================] - 12s 101ms/step - loss: 0.5741 - acc: 0.7851 - val_loss: 0.5889 - val_acc: 0.7809\n",
      "Epoch 16/30\n",
      "118/118 [==============================] - 12s 100ms/step - loss: 0.5634 - acc: 0.7891 - val_loss: 0.5837 - val_acc: 0.7790\n",
      "Epoch 17/30\n",
      "118/118 [==============================] - 12s 99ms/step - loss: 0.5562 - acc: 0.7919 - val_loss: 0.5711 - val_acc: 0.7866\n",
      "Epoch 18/30\n",
      "118/118 [==============================] - 12s 103ms/step - loss: 0.5477 - acc: 0.7950 - val_loss: 0.5702 - val_acc: 0.7875\n",
      "Epoch 19/30\n",
      "118/118 [==============================] - 12s 99ms/step - loss: 0.5433 - acc: 0.7958 - val_loss: 0.5579 - val_acc: 0.7912\n",
      "Epoch 20/30\n",
      "118/118 [==============================] - 12s 99ms/step - loss: 0.5346 - acc: 0.7987 - val_loss: 0.5674 - val_acc: 0.7890\n",
      "Epoch 21/30\n",
      "118/118 [==============================] - 12s 100ms/step - loss: 0.5295 - acc: 0.8025 - val_loss: 0.5515 - val_acc: 0.7940\n",
      "Epoch 22/30\n",
      "118/118 [==============================] - 12s 103ms/step - loss: 0.5226 - acc: 0.8054 - val_loss: 0.5474 - val_acc: 0.8006\n",
      "Epoch 23/30\n",
      "118/118 [==============================] - 12s 101ms/step - loss: 0.5179 - acc: 0.8078 - val_loss: 0.5456 - val_acc: 0.7925\n",
      "Epoch 24/30\n",
      "118/118 [==============================] - 12s 99ms/step - loss: 0.5115 - acc: 0.8099 - val_loss: 0.5353 - val_acc: 0.8007\n",
      "Epoch 25/30\n",
      "118/118 [==============================] - 12s 104ms/step - loss: 0.5074 - acc: 0.8116 - val_loss: 0.5379 - val_acc: 0.8010\n",
      "Epoch 26/30\n",
      "118/118 [==============================] - 12s 103ms/step - loss: 0.5016 - acc: 0.8146 - val_loss: 0.5264 - val_acc: 0.8035\n",
      "Epoch 27/30\n",
      "118/118 [==============================] - 12s 101ms/step - loss: 0.4977 - acc: 0.8154 - val_loss: 0.5341 - val_acc: 0.8043\n",
      "Epoch 28/30\n",
      "118/118 [==============================] - 12s 99ms/step - loss: 0.4971 - acc: 0.8171 - val_loss: 0.5278 - val_acc: 0.8025\n",
      "Epoch 29/30\n",
      "118/118 [==============================] - 12s 101ms/step - loss: 0.4914 - acc: 0.8194 - val_loss: 0.5159 - val_acc: 0.8084\n",
      "Epoch 30/30\n",
      "118/118 [==============================] - 12s 102ms/step - loss: 0.4878 - acc: 0.8202 - val_loss: 0.5122 - val_acc: 0.8087\n"
     ]
    }
   ],
   "source": [
    "history=model.fit(x_train,y_train,epochs=30,batch_size=512,validation_data=(x_test,y_test))"
   ]
  },
  {
   "cell_type": "code",
   "execution_count": 44,
   "id": "39252987",
   "metadata": {},
   "outputs": [
    {
     "data": {
      "text/plain": [
       "dict_keys(['loss', 'acc', 'val_loss', 'val_acc'])"
      ]
     },
     "execution_count": 44,
     "metadata": {},
     "output_type": "execute_result"
    }
   ],
   "source": [
    "history.history.keys()"
   ]
  },
  {
   "cell_type": "code",
   "execution_count": 45,
   "id": "f855e450",
   "metadata": {},
   "outputs": [
    {
     "data": {
      "image/png": "[encoded data removed]",
      "text/plain": [
       "<Figure size 640x480 with 1 Axes>"
      ]
     },
     "metadata": {},
     "output_type": "display_data"
    }
   ],
   "source": [
    "plt.plot(history.history['loss'])\n",
    "plt.plot(history.history['val_loss'])\n",
    "plt.title('model loss')\n",
    "plt.ylabel('loss')\n",
    "plt.xlabel('epoch')\n",
    "plt.legend(['train'],loc='upper left')\n",
    "plt.legend(['validation'],loc='upper left')\n",
    "plt.show()"
   ]
  },
  {
   "cell_type": "code",
   "execution_count": 46,
   "id": "3d009878",
   "metadata": {},
   "outputs": [
    {
     "data": {
      "image/png": "[encoded data removed]",
      "text/plain": [
       "<Figure size 640x480 with 1 Axes>"
      ]
     },
     "metadata": {},
     "output_type": "display_data"
    }
   ],
   "source": [
    "plt.plot(history.history['acc'])\n",
    "plt.plot(history.history['val_acc'])\n",
    "plt.title('model accuracy')\n",
    "plt.ylabel('accuracy')\n",
    "plt.xlabel('epoch')\n",
    "plt.legend(['train'],loc='upper left')\n",
    "plt.show()"
   ]
  },
  {
   "cell_type": "code",
   "execution_count": null,
   "id": "ef543233",
   "metadata": {},
   "outputs": [],
   "source": []
  }
 ],
 "metadata": {
  "kernelspec": {
   "display_name": "Python 3 (ipykernel)",
   "language": "python",
   "name": "python3"
  },
  "language_info": {
   "codemirror_mode": {
    "name": "ipython",
    "version": 3
   },
   "file_extension": ".py",
   "mimetype": "text/x-python",
   "name": "python",
   "nbconvert_exporter": "python",
   "pygments_lexer": "ipython3",
   "version": "3.8.15"
  }
 },
 "nbformat": 4,
 "nbformat_minor": 5
}
